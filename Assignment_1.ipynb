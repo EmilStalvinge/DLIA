{
 "cells": [
  {
   "cell_type": "code",
   "execution_count": 1,
   "metadata": {},
   "outputs": [],
   "source": [
    "import numpy as np\n",
    "import pandas as pd\n",
    "import matplotlib.pyplot as plt"
   ]
  },
  {
   "cell_type": "code",
   "execution_count": 391,
   "metadata": {},
   "outputs": [],
   "source": [
    "def load_auto():\n",
    "\n",
    "    # import data\n",
    "    Auto = pd.read_csv('Auto.csv', na_values='?', dtype={'ID': str}).dropna().reset_index()\n",
    "\n",
    "    # Extract relevant data features\n",
    "    X_train = Auto[['cylinders','displacement','horsepower','weight', 'acceleration','year','origin']].values\n",
    "    #X_train = Auto[['horsepower'].values\n",
    "    Y_train = Auto[['mpg']].values\n",
    "\n",
    "    return X_train, Y_train"
   ]
  },
  {
   "cell_type": "code",
   "execution_count": 392,
   "metadata": {},
   "outputs": [],
   "source": [
    "class Linear_regression():    \n",
    "    \n",
    "    def __init__(self, dim):\n",
    "        self.w = np.array([0.0]*dim).reshape(dim,1)\n",
    "        self.dim = dim\n",
    "        #self.w[0] = 60.0\n",
    "        \n",
    "    def forward(self,x_data):\n",
    "        #z = np.array([0]*len(x_data))\n",
    "        #for i, xi in enumerate(x_data):\n",
    "        #    z[i] = self.w[0] * xi + self.b\n",
    "        #return z\n",
    "        \n",
    "        ones_column = np.ones((len(x_data),1))\n",
    "        x_matrix = np.hstack((ones_column,x_data))\n",
    "        z = np.matmul(x_matrix, self.w)\n",
    "        return z\n",
    "        \n",
    "    def compute_cost(self, y, z):\n",
    "        L = (y-z)**2\n",
    "        J = sum(L)/len(L)\n",
    "        return J\n",
    "    \n",
    "    def backward(self, x, y, z):\n",
    "        #dJdz = (2/len(y))* sum(y-z)\n",
    "        #dzdb = 1        \n",
    "        #dJdw = dJdz*dzdw\n",
    "        #dJdb = dJdz*dzdb\n",
    "      \n",
    "        #dJdw = np.array([0]*1)\n",
    "\n",
    "        n = len(y)        \n",
    "        dJdw = (-2/n)* sum((y-z)*x)\n",
    "        dJdb = (-2/n)* sum(y-z)\n",
    "        \n",
    "        return [dJdw, dJdb]\n",
    "    \n",
    "    def update_parameters(self, dJdw, dJdb, lr):\n",
    "        self.w[0] -= lr*dJdb\n",
    "        for i in range(self.dim-1):\n",
    "            self.w[i+1] -= lr*dJdw[i]\n",
    "        \n",
    "        \n",
    "    def predict(self,x):\n",
    "        return self.forward(x)\n",
    "        \n",
    "    def train_linear_model(self, x_data, y_data, learning_rate, iterations):\n",
    "        J = [None]*iterations\n",
    "        for i in range(iterations):\n",
    "            z = self.forward(x_data)\n",
    "            #print('z ', z)\n",
    "            #print(x_data)\n",
    "            #print(self.w)\n",
    "            J[i] = self.compute_cost(y_data, z)\n",
    "            [dJdw, dJdb] = self.backward(x_data,y_data,z)\n",
    "            #print(dJdw, dJdb)\n",
    "            self.update_parameters(dJdw, dJdb, learning_rate)\n",
    "            #print(self.w)\n",
    "        \n",
    "        #xx = np.linspace(min(x_data),max(x_data),len(y_data)).reshape(len(y_data),1)\n",
    "        #m = self.predict(xx)          \n",
    "        #plt.plot(x_data,y_data,'ro', label='input')\n",
    "        #plt.plot(xx,m, label='model')   \n",
    "        print(J[iterations-1])\n",
    "        plt.plot(J)        "
   ]
  },
  {
   "cell_type": "code",
   "execution_count": 396,
   "metadata": {},
   "outputs": [
    {
     "name": "stdout",
     "output_type": "stream",
     "text": [
      "[11.61643228]\n"
     ]
    },
    {
     "data": {
      "image/png": "[encoded data removed]",
      "text/plain": [
       "<Figure size 432x288 with 1 Axes>"
      ]
     },
     "metadata": {
      "needs_background": "light"
     },
     "output_type": "display_data"
    }
   ],
   "source": [
    "#AUTO DATA\n",
    "\n",
    "x,y = load_auto()\n",
    "\n",
    "x_data = np.array(x)\n",
    "y_data = np.array(y)\n",
    "\n",
    "mean = np.mean(x_data, axis=0)\n",
    "std = np.std(x_data, axis=0)\n",
    "x_d = (x_data - mean) / std\n",
    "\n",
    "input_dimensions = x_d.shape[1]\n",
    "\n",
    "model = Linear_regression(dim = input_dimensions+1)\n",
    "\n",
    "lr = 0.003\n",
    "iterations = 1000\n",
    "\n",
    "model.train_linear_model(x_d,y_data,lr,iterations)"
   ]
  },
  {
   "cell_type": "code",
   "execution_count": null,
   "metadata": {},
   "outputs": [],
   "source": []
  },
  {
   "cell_type": "code",
   "execution_count": 168,
   "metadata": {},
   "outputs": [],
   "source": [
    "## TEST DATA\n",
    "model = Linear_regression(3)\n",
    "x = np.array([[1,1],[1,3],[2,5],[1,6],[2,7]])\n",
    "#x = np.array([1,2,3,4,5])\n",
    "y = np.array([[4],[5],[6],[6],[7]])\n",
    "lr = 0.03\n",
    "iterations = 100\n",
    "\n",
    "#model.train_linear_model(x,y,lr,iterations)"
   ]
  },
  {
   "cell_type": "code",
   "execution_count": 12,
   "metadata": {},
   "outputs": [
    {
     "data": {
      "text/plain": [
       "[0]"
      ]
     },
     "execution_count": 12,
     "metadata": {},
     "output_type": "execute_result"
    }
   ],
   "source": [
    "[0]*1"
   ]
  },
  {
   "cell_type": "code",
   "execution_count": 43,
   "metadata": {},
   "outputs": [
    {
     "data": {
      "text/plain": [
       "array([ 4, 16, 36], dtype=int32)"
      ]
     },
     "execution_count": 43,
     "metadata": {},
     "output_type": "execute_result"
    }
   ],
   "source": [
    "a = np.array([1,2,3])\n",
    "b = np.array([1,2,3])\n",
    "(a + b)**2"
   ]
  },
  {
   "cell_type": "code",
   "execution_count": 46,
   "metadata": {},
   "outputs": [
    {
     "data": {
      "text/plain": [
       "array([1, 3, 3])"
      ]
     },
     "execution_count": 46,
     "metadata": {},
     "output_type": "execute_result"
    }
   ],
   "source": [
    "a = np.array([1,2,3])\n",
    "a[1] = 3\n",
    "a"
   ]
  },
  {
   "cell_type": "code",
   "execution_count": null,
   "metadata": {},
   "outputs": [],
   "source": [
    "\n"
   ]
  },
  {
   "cell_type": "code",
   "execution_count": null,
   "metadata": {},
   "outputs": [],
   "source": []
  },
  {
   "cell_type": "code",
   "execution_count": 79,
   "metadata": {},
   "outputs": [
    {
     "name": "stdout",
     "output_type": "stream",
     "text": [
      "(2,) (2, 1)\n"
     ]
    },
    {
     "data": {
      "text/plain": [
       "array([11])"
      ]
     },
     "execution_count": 79,
     "metadata": {},
     "output_type": "execute_result"
    }
   ],
   "source": [
    "M1 = np.array([5, 3])\n",
    "M2 = np.array([[1],[2]])\n",
    "print(M1.shape, M2.shape)\n",
    "M1.dot(M2)"
   ]
  },
  {
   "cell_type": "code",
   "execution_count": 92,
   "metadata": {},
   "outputs": [
    {
     "data": {
      "text/plain": [
       "1030.0"
      ]
     },
     "execution_count": 92,
     "metadata": {},
     "output_type": "execute_result"
    }
   ],
   "source": [
    "w = np.array([2]*2) \n",
    "w.dot(x_data[1]) "
   ]
  },
  {
   "cell_type": "code",
   "execution_count": null,
   "metadata": {},
   "outputs": [],
   "source": []
  },
  {
   "cell_type": "code",
   "execution_count": null,
   "metadata": {},
   "outputs": [],
   "source": []
  }
 ],
 "metadata": {
  "kernelspec": {
   "display_name": "Python 3",
   "language": "python",
   "name": "python3"
  },
  "language_info": {
   "codemirror_mode": {
    "name": "ipython",
    "version": 3
   },
   "file_extension": ".py",
   "mimetype": "text/x-python",
   "name": "python",
   "nbconvert_exporter": "python",
   "pygments_lexer": "ipython3",
   "version": "3.7.8"
  }
 },
 "nbformat": 4,
 "nbformat_minor": 4
}
